{
 "cells": [
  {
   "cell_type": "code",
   "execution_count": 8,
   "id": "af10d677",
   "metadata": {},
   "outputs": [],
   "source": [
    "import requests\n",
    "import pandas as pd\n",
    "import numpy as np\n",
    "from geopy.geocoders import Nominatim\n",
    "from datetime import datetime, timedelta"
   ]
  },
  {
   "cell_type": "code",
   "execution_count": 9,
   "id": "72afd463-9280-4b2a-9d48-b80feffd04d6",
   "metadata": {},
   "outputs": [],
   "source": [
    "# finding latitude and longitudes of places"
   ]
  },
  {
   "cell_type": "code",
   "execution_count": 10,
   "id": "164b4aca",
   "metadata": {},
   "outputs": [],
   "source": [
    "def get_latlong_more(*addresses):\n",
    "    geolocator = Nominatim(user_agent=\"shree_app\")\n",
    "    latitude = []\n",
    "    longitude = []\n",
    "    address = []\n",
    "    for loc in addresses:\n",
    "        address.append(loc)\n",
    "        location = geolocator.geocode(loc)\n",
    "        latitude.append(location.latitude)\n",
    "        longitude.append(location.longitude)\n",
    "\n",
    "    loc_dict =  {'location': address,\n",
    "                \"latitude\" : latitude, \n",
    "                \"longitude\" : longitude}\n",
    "    loc_df = pd.DataFrame.from_dict(loc_dict)\n",
    "    \n",
    "    return(loc_df)"
   ]
  },
  {
   "cell_type": "code",
   "execution_count": 11,
   "id": "cb7254c7",
   "metadata": {},
   "outputs": [
    {
     "data": {
      "text/plain": [
       "4"
      ]
     },
     "execution_count": 11,
     "metadata": {},
     "output_type": "execute_result"
    }
   ],
   "source": [
    "df = get_latlong_more('treptower park, berlin', 'zehlendorf, berlin', 'mitte, berlin', 'potsdamer platz, berlin')\n",
    "len(df)"
   ]
  },
  {
   "cell_type": "code",
   "execution_count": null,
   "id": "881fc350",
   "metadata": {},
   "outputs": [],
   "source": []
  },
  {
   "cell_type": "code",
   "execution_count": null,
   "id": "b3533793",
   "metadata": {},
   "outputs": [],
   "source": []
  },
  {
   "cell_type": "code",
   "execution_count": 12,
   "id": "3b2b210a",
   "metadata": {},
   "outputs": [],
   "source": [
    "# extracting dates between from and to "
   ]
  },
  {
   "cell_type": "code",
   "execution_count": 13,
   "id": "cf417ae3",
   "metadata": {},
   "outputs": [],
   "source": [
    "def get_dates(start_date, end_date):\n",
    "    \n",
    "    start_date_dt = datetime.strptime(start_date, \"%Y-%m-%d\")\n",
    "    end_date_dt = datetime.strptime(end_date, \"%Y-%m-%d\")\n",
    "\n",
    "\n",
    "    delta = end_date_dt - start_date_dt  # returns timedelta\n",
    "\n",
    "\n",
    "    #print(delta.days)\n",
    "    day_list = []\n",
    "    for i in range(delta.days + 1):\n",
    "        day = (start_date_dt + timedelta(days=i)).date()\n",
    "        day = day.strftime(\"%Y-%m-%d\")\n",
    "    \n",
    "        day_list.append(day)\n",
    "        \n",
    "    return day_list\n",
    "        \n"
   ]
  },
  {
   "cell_type": "code",
   "execution_count": 14,
   "id": "02e985e1",
   "metadata": {},
   "outputs": [
    {
     "data": {
      "text/plain": [
       "['2022-05-01',\n",
       " '2022-05-02',\n",
       " '2022-05-03',\n",
       " '2022-05-04',\n",
       " '2022-05-05',\n",
       " '2022-05-06']"
      ]
     },
     "execution_count": 14,
     "metadata": {},
     "output_type": "execute_result"
    }
   ],
   "source": [
    "get_dates('2022-05-01', '2022-05-06')\n",
    "    "
   ]
  },
  {
   "cell_type": "code",
   "execution_count": null,
   "id": "02ecaa32",
   "metadata": {},
   "outputs": [],
   "source": []
  },
  {
   "cell_type": "code",
   "execution_count": null,
   "id": "5a85cc93-be94-47a6-b9ac-719d9f06cf2d",
   "metadata": {},
   "outputs": [],
   "source": []
  },
  {
   "cell_type": "code",
   "execution_count": null,
   "id": "7cfe6316",
   "metadata": {},
   "outputs": [],
   "source": []
  },
  {
   "cell_type": "code",
   "execution_count": 15,
   "id": "1be0d1f6",
   "metadata": {},
   "outputs": [],
   "source": [
    "#full function of picnic weather"
   ]
  },
  {
   "cell_type": "code",
   "execution_count": 108,
   "id": "550522d4",
   "metadata": {},
   "outputs": [],
   "source": [
    "def picnic_weather_full(dates, *places):\n",
    "    \n",
    "    weather_dict = []\n",
    "    \n",
    "    for day in dates:\n",
    "        \n",
    "        for loc in places:\n",
    "        \n",
    "            url = f\"https://api.brightsky.dev/weather?lat={float(np.asarray(get_latlong_more(loc)['latitude'].values))}&lon={float(np.asarray(get_latlong_more(loc)['longitude'].values))}&date={day}\"\n",
    "            #print(url)\n",
    "            r = requests.get(url).json()\n",
    "            weather = r['weather']\n",
    "            n = len(weather)\n",
    "            avg_windspeed = np.mean([wind['wind_speed'] for wind in weather if wind['wind_speed'] != None])\n",
    "            avg_temperature = np.mean([temp['temperature'] for temp in weather if temp['temperature'] != None])\n",
    "            avg_sunshine = np.mean([sun['sunshine'] for sun in weather if sun['sunshine'] != None])\n",
    "            avg_precipitation = np.mean([prec['precipitation'] for prec in weather if prec['precipitation'] != None])\n",
    "            weather_dict.append({'date': day,\n",
    "                                 'location': loc,\n",
    "                                        'avg_windspeed': avg_windspeed,\n",
    "                                        'avg_temperature' : avg_temperature,\n",
    "                                        'avg_sunshine' : avg_sunshine,\n",
    "                                        'avg_precipitation' : avg_precipitation})\n",
    "            \n",
    "            df = pd.DataFrame.from_dict(weather_dict)\n",
    "            df_fill = df.fillna(0)\n",
    "            \n",
    "            df_new = df_fill[(df_fill['avg_windspeed']<= 30.0) &\n",
    "            (df_fill['avg_temperature']<= 30.0) &\n",
    "            (df_fill['avg_temperature']>= 15.0) &\n",
    "            (df_fill['avg_sunshine']>= 20.0) &\n",
    "            (df_fill['avg_precipitation']<= 0.05)]\n",
    "            \n",
    "            df_result = df_new[['date','location']]\n",
    "            \n",
    "            \n",
    "        \n",
    "    return df_result"
   ]
  },
  {
   "cell_type": "code",
   "execution_count": 109,
   "id": "99571196",
   "metadata": {},
   "outputs": [],
   "source": [
    "date_list = get_dates('2022-05-12', '2022-05-19')"
   ]
  },
  {
   "cell_type": "code",
   "execution_count": 110,
   "id": "6723999e",
   "metadata": {},
   "outputs": [
    {
     "name": "stderr",
     "output_type": "stream",
     "text": [
      "/Users/shreetamakarmakar/.pyenv/versions/3.8.13/envs/lewagon/lib/python3.8/site-packages/numpy/core/fromnumeric.py:3334: RuntimeWarning: Mean of empty slice.\n",
      "  return _methods._mean(a, axis=axis, dtype=dtype,\n",
      "/Users/shreetamakarmakar/.pyenv/versions/3.8.13/envs/lewagon/lib/python3.8/site-packages/numpy/core/_methods.py:161: RuntimeWarning: invalid value encountered in double_scalars\n",
      "  ret = ret.dtype.type(ret / rcount)\n"
     ]
    }
   ],
   "source": [
    "out = picnic_weather_full(date_list, 'pankow, berlin',  'zehlendorf, berlin', 'treptower park, berlin')"
   ]
  },
  {
   "cell_type": "code",
   "execution_count": 111,
   "id": "7885febd",
   "metadata": {},
   "outputs": [
    {
     "data": {
      "text/html": [
       "<div>\n",
       "<style scoped>\n",
       "    .dataframe tbody tr th:only-of-type {\n",
       "        vertical-align: middle;\n",
       "    }\n",
       "\n",
       "    .dataframe tbody tr th {\n",
       "        vertical-align: top;\n",
       "    }\n",
       "\n",
       "    .dataframe thead th {\n",
       "        text-align: right;\n",
       "    }\n",
       "</style>\n",
       "<table border=\"1\" class=\"dataframe\">\n",
       "  <thead>\n",
       "    <tr style=\"text-align: right;\">\n",
       "      <th></th>\n",
       "      <th>date</th>\n",
       "      <th>location</th>\n",
       "    </tr>\n",
       "  </thead>\n",
       "  <tbody>\n",
       "    <tr>\n",
       "      <th>10</th>\n",
       "      <td>2022-05-15</td>\n",
       "      <td>zehlendorf, berlin</td>\n",
       "    </tr>\n",
       "    <tr>\n",
       "      <th>14</th>\n",
       "      <td>2022-05-16</td>\n",
       "      <td>treptower park, berlin</td>\n",
       "    </tr>\n",
       "    <tr>\n",
       "      <th>19</th>\n",
       "      <td>2022-05-18</td>\n",
       "      <td>zehlendorf, berlin</td>\n",
       "    </tr>\n",
       "    <tr>\n",
       "      <th>20</th>\n",
       "      <td>2022-05-18</td>\n",
       "      <td>treptower park, berlin</td>\n",
       "    </tr>\n",
       "    <tr>\n",
       "      <th>21</th>\n",
       "      <td>2022-05-19</td>\n",
       "      <td>pankow, berlin</td>\n",
       "    </tr>\n",
       "    <tr>\n",
       "      <th>22</th>\n",
       "      <td>2022-05-19</td>\n",
       "      <td>zehlendorf, berlin</td>\n",
       "    </tr>\n",
       "    <tr>\n",
       "      <th>23</th>\n",
       "      <td>2022-05-19</td>\n",
       "      <td>treptower park, berlin</td>\n",
       "    </tr>\n",
       "  </tbody>\n",
       "</table>\n",
       "</div>"
      ],
      "text/plain": [
       "          date                location\n",
       "10  2022-05-15      zehlendorf, berlin\n",
       "14  2022-05-16  treptower park, berlin\n",
       "19  2022-05-18      zehlendorf, berlin\n",
       "20  2022-05-18  treptower park, berlin\n",
       "21  2022-05-19          pankow, berlin\n",
       "22  2022-05-19      zehlendorf, berlin\n",
       "23  2022-05-19  treptower park, berlin"
      ]
     },
     "execution_count": 111,
     "metadata": {},
     "output_type": "execute_result"
    }
   ],
   "source": [
    "out.head(20)"
   ]
  },
  {
   "cell_type": "code",
   "execution_count": null,
   "id": "7ed9a1e4",
   "metadata": {
    "scrolled": true
   },
   "outputs": [],
   "source": []
  },
  {
   "cell_type": "code",
   "execution_count": null,
   "id": "eebc98bb",
   "metadata": {},
   "outputs": [],
   "source": []
  },
  {
   "cell_type": "code",
   "execution_count": null,
   "id": "61ab22fa",
   "metadata": {},
   "outputs": [],
   "source": []
  },
  {
   "cell_type": "code",
   "execution_count": null,
   "id": "554e7a1e",
   "metadata": {
    "scrolled": true
   },
   "outputs": [],
   "source": []
  },
  {
   "cell_type": "code",
   "execution_count": null,
   "id": "7c71fa18",
   "metadata": {},
   "outputs": [],
   "source": []
  },
  {
   "cell_type": "code",
   "execution_count": null,
   "id": "6d0b898a-4295-4d49-bd03-d98126866182",
   "metadata": {},
   "outputs": [],
   "source": []
  },
  {
   "cell_type": "code",
   "execution_count": null,
   "id": "cce8a17f",
   "metadata": {},
   "outputs": [],
   "source": []
  },
  {
   "cell_type": "code",
   "execution_count": null,
   "id": "7050106d-1b9c-4da8-8c87-0a1464fc87ec",
   "metadata": {},
   "outputs": [],
   "source": []
  },
  {
   "cell_type": "code",
   "execution_count": null,
   "id": "b3749df4-5b40-4c5e-92d7-afe1e157ff8a",
   "metadata": {},
   "outputs": [],
   "source": [
    "\n"
   ]
  },
  {
   "cell_type": "code",
   "execution_count": null,
   "id": "2a2000d7-23e3-4997-8ec8-2f7c576f0c4c",
   "metadata": {},
   "outputs": [],
   "source": [
    "\n"
   ]
  },
  {
   "cell_type": "code",
   "execution_count": null,
   "id": "55a5d936-fedf-409a-85e4-2be508b2333c",
   "metadata": {},
   "outputs": [],
   "source": []
  },
  {
   "cell_type": "code",
   "execution_count": null,
   "id": "fe111678-040b-4d52-9c63-b6473be5293d",
   "metadata": {},
   "outputs": [],
   "source": []
  },
  {
   "cell_type": "code",
   "execution_count": null,
   "id": "64622599-45d3-4129-911b-da6a04b7e708",
   "metadata": {},
   "outputs": [],
   "source": []
  },
  {
   "cell_type": "code",
   "execution_count": null,
   "id": "50156678-e03a-4735-adaf-ff0c2eaa2680",
   "metadata": {},
   "outputs": [],
   "source": []
  },
  {
   "cell_type": "code",
   "execution_count": null,
   "id": "09953bf8",
   "metadata": {},
   "outputs": [],
   "source": []
  },
  {
   "cell_type": "code",
   "execution_count": null,
   "id": "f8e5d1a5-8e8a-45c4-bdd2-62c4bfbf49a7",
   "metadata": {},
   "outputs": [],
   "source": []
  },
  {
   "cell_type": "code",
   "execution_count": null,
   "id": "2046c1f2-1571-44ea-9c51-acd57927a974",
   "metadata": {},
   "outputs": [],
   "source": []
  },
  {
   "cell_type": "code",
   "execution_count": null,
   "id": "aec86b06-d172-4cc3-8323-c31c7cea6bad",
   "metadata": {},
   "outputs": [],
   "source": []
  },
  {
   "cell_type": "code",
   "execution_count": null,
   "id": "f24f3c6f-1dfd-448a-aefa-763e4a9611ec",
   "metadata": {},
   "outputs": [],
   "source": []
  },
  {
   "cell_type": "code",
   "execution_count": null,
   "id": "77abb495",
   "metadata": {},
   "outputs": [],
   "source": []
  },
  {
   "cell_type": "code",
   "execution_count": null,
   "id": "fdd09543-1830-4e41-a7be-b7f3d6961a67",
   "metadata": {},
   "outputs": [],
   "source": []
  }
 ],
 "metadata": {
  "kernelspec": {
   "display_name": "Python 3 (ipykernel)",
   "language": "python",
   "name": "python3"
  },
  "language_info": {
   "codemirror_mode": {
    "name": "ipython",
    "version": 3
   },
   "file_extension": ".py",
   "mimetype": "text/x-python",
   "name": "python",
   "nbconvert_exporter": "python",
   "pygments_lexer": "ipython3",
   "version": "3.8.13"
  },
  "toc": {
   "base_numbering": 1,
   "nav_menu": {},
   "number_sections": true,
   "sideBar": true,
   "skip_h1_title": false,
   "title_cell": "Table of Contents",
   "title_sidebar": "Contents",
   "toc_cell": false,
   "toc_position": {},
   "toc_section_display": true,
   "toc_window_display": false
  }
 },
 "nbformat": 4,
 "nbformat_minor": 5
}
